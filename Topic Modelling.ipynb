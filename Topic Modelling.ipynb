{
 "cells": [
  {
   "cell_type": "markdown",
   "metadata": {},
   "source": [
    "# Topic Modelling Using Latent Dirichelt Allocation"
   ]
  },
  {
   "cell_type": "markdown",
   "metadata": {},
   "source": [
    "The dataset that has been used here is downloaded from Kaggle and contains reviews of a certain cellphone model and the sentiment attatched to the model. Since topic modelling is the main aim here, the sentiment column will not be necessary and can be dropped."
   ]
  },
  {
   "cell_type": "code",
   "execution_count": 1,
   "metadata": {},
   "outputs": [],
   "source": [
    "#Importing the necessary libraries\n",
    "import pandas as pd\n",
    "import numpy as np\n",
    "import seaborn as sns\n",
    "import matplotlib.pyplot as plt"
   ]
  },
  {
   "cell_type": "code",
   "execution_count": 2,
   "metadata": {},
   "outputs": [],
   "source": [
    "#Loading the dataset\n",
    "review = pd.read_csv('Reviews.csv')"
   ]
  },
  {
   "cell_type": "code",
   "execution_count": 3,
   "metadata": {},
   "outputs": [
    {
     "data": {
      "text/html": [
       "<div>\n",
       "<style scoped>\n",
       "    .dataframe tbody tr th:only-of-type {\n",
       "        vertical-align: middle;\n",
       "    }\n",
       "\n",
       "    .dataframe tbody tr th {\n",
       "        vertical-align: top;\n",
       "    }\n",
       "\n",
       "    .dataframe thead th {\n",
       "        text-align: right;\n",
       "    }\n",
       "</style>\n",
       "<table border=\"1\" class=\"dataframe\">\n",
       "  <thead>\n",
       "    <tr style=\"text-align: right;\">\n",
       "      <th></th>\n",
       "      <th>sentiment</th>\n",
       "      <th>review</th>\n",
       "    </tr>\n",
       "  </thead>\n",
       "  <tbody>\n",
       "    <tr>\n",
       "      <th>0</th>\n",
       "      <td>1</td>\n",
       "      <td>Good but need updates and improvements</td>\n",
       "    </tr>\n",
       "    <tr>\n",
       "      <th>1</th>\n",
       "      <td>0</td>\n",
       "      <td>Worst mobile i have bought ever, Battery is dr...</td>\n",
       "    </tr>\n",
       "    <tr>\n",
       "      <th>2</th>\n",
       "      <td>1</td>\n",
       "      <td>when I will get my 10% cash back.... its alrea...</td>\n",
       "    </tr>\n",
       "    <tr>\n",
       "      <th>3</th>\n",
       "      <td>1</td>\n",
       "      <td>Good</td>\n",
       "    </tr>\n",
       "    <tr>\n",
       "      <th>4</th>\n",
       "      <td>0</td>\n",
       "      <td>The worst phone everThey have changed the last...</td>\n",
       "    </tr>\n",
       "  </tbody>\n",
       "</table>\n",
       "</div>"
      ],
      "text/plain": [
       "   sentiment                                             review\n",
       "0          1             Good but need updates and improvements\n",
       "1          0  Worst mobile i have bought ever, Battery is dr...\n",
       "2          1  when I will get my 10% cash back.... its alrea...\n",
       "3          1                                               Good\n",
       "4          0  The worst phone everThey have changed the last..."
      ]
     },
     "execution_count": 3,
     "metadata": {},
     "output_type": "execute_result"
    }
   ],
   "source": [
    "review.head()"
   ]
  },
  {
   "cell_type": "code",
   "execution_count": 4,
   "metadata": {},
   "outputs": [
    {
     "data": {
      "text/html": [
       "<div>\n",
       "<style scoped>\n",
       "    .dataframe tbody tr th:only-of-type {\n",
       "        vertical-align: middle;\n",
       "    }\n",
       "\n",
       "    .dataframe tbody tr th {\n",
       "        vertical-align: top;\n",
       "    }\n",
       "\n",
       "    .dataframe thead th {\n",
       "        text-align: right;\n",
       "    }\n",
       "</style>\n",
       "<table border=\"1\" class=\"dataframe\">\n",
       "  <thead>\n",
       "    <tr style=\"text-align: right;\">\n",
       "      <th></th>\n",
       "      <th>review</th>\n",
       "    </tr>\n",
       "  </thead>\n",
       "  <tbody>\n",
       "    <tr>\n",
       "      <th>0</th>\n",
       "      <td>Good but need updates and improvements</td>\n",
       "    </tr>\n",
       "    <tr>\n",
       "      <th>1</th>\n",
       "      <td>Worst mobile i have bought ever, Battery is dr...</td>\n",
       "    </tr>\n",
       "    <tr>\n",
       "      <th>2</th>\n",
       "      <td>when I will get my 10% cash back.... its alrea...</td>\n",
       "    </tr>\n",
       "    <tr>\n",
       "      <th>3</th>\n",
       "      <td>Good</td>\n",
       "    </tr>\n",
       "    <tr>\n",
       "      <th>4</th>\n",
       "      <td>The worst phone everThey have changed the last...</td>\n",
       "    </tr>\n",
       "  </tbody>\n",
       "</table>\n",
       "</div>"
      ],
      "text/plain": [
       "                                              review\n",
       "0             Good but need updates and improvements\n",
       "1  Worst mobile i have bought ever, Battery is dr...\n",
       "2  when I will get my 10% cash back.... its alrea...\n",
       "3                                               Good\n",
       "4  The worst phone everThey have changed the last..."
      ]
     },
     "execution_count": 4,
     "metadata": {},
     "output_type": "execute_result"
    }
   ],
   "source": [
    "#Dropping the sentiment column\n",
    "review.drop('sentiment',axis=1,inplace=True)\n",
    "review.head()"
   ]
  },
  {
   "cell_type": "code",
   "execution_count": 5,
   "metadata": {},
   "outputs": [
    {
     "data": {
      "text/plain": [
       "14675"
      ]
     },
     "execution_count": 5,
     "metadata": {},
     "output_type": "execute_result"
    }
   ],
   "source": [
    "len(review)"
   ]
  },
  {
   "cell_type": "markdown",
   "metadata": {},
   "source": [
    "# Text Preprocessing"
   ]
  },
  {
   "cell_type": "markdown",
   "metadata": {},
   "source": [
    "Here, CountVectorizer is used to remove the stopwords and convert all the documents(reviews) into a dictionary of features which is later transformed to feature vectors."
   ]
  },
  {
   "cell_type": "code",
   "execution_count": 6,
   "metadata": {},
   "outputs": [],
   "source": [
    "from sklearn.feature_extraction.text import CountVectorizer"
   ]
  },
  {
   "cell_type": "code",
   "execution_count": 7,
   "metadata": {},
   "outputs": [],
   "source": [
    "cv = CountVectorizer(max_df=0.95, min_df=2, stop_words='english')"
   ]
  },
  {
   "cell_type": "markdown",
   "metadata": {},
   "source": [
    "**max_df** is used to ignore the words that have a document frequency that is greater than the threshold given. It is done so that we do not take in repeated words which may end up appearing in multiple topics.\n",
    "\n",
    "**min_df** is used to ignore terms that have a document frequency that is lesser than the given threshold. We cannot really find any topic for a word if it appears just once and thus the threshold is set at 2 and words that appears more than 2 times are considered."
   ]
  },
  {
   "cell_type": "code",
   "execution_count": 8,
   "metadata": {},
   "outputs": [],
   "source": [
    "dtm = cv.fit_transform(review['review'])"
   ]
  },
  {
   "cell_type": "code",
   "execution_count": 9,
   "metadata": {},
   "outputs": [
    {
     "data": {
      "text/plain": [
       "<14675x4827 sparse matrix of type '<class 'numpy.int64'>'\n",
       "\twith 139135 stored elements in Compressed Sparse Row format>"
      ]
     },
     "execution_count": 9,
     "metadata": {},
     "output_type": "execute_result"
    }
   ],
   "source": [
    "dtm"
   ]
  },
  {
   "cell_type": "markdown",
   "metadata": {},
   "source": [
    "Here we can see that the documents have been converted into a sparse matrix. The number 4827 represents the total number of words that are present."
   ]
  },
  {
   "cell_type": "markdown",
   "metadata": {},
   "source": [
    "# Implementing the Latent Dirichelt Allocation"
   ]
  },
  {
   "cell_type": "code",
   "execution_count": 10,
   "metadata": {},
   "outputs": [],
   "source": [
    "from sklearn.decomposition import LatentDirichletAllocation"
   ]
  },
  {
   "cell_type": "code",
   "execution_count": 11,
   "metadata": {},
   "outputs": [],
   "source": [
    "t_model = LatentDirichletAllocation(n_components=12, random_state=42)"
   ]
  },
  {
   "cell_type": "markdown",
   "metadata": {},
   "source": [
    "It is difficult to exactly guess how many topics would be right for a dataset unless we have some domain knowledge with respect to that field."
   ]
  },
  {
   "cell_type": "code",
   "execution_count": 12,
   "metadata": {},
   "outputs": [
    {
     "data": {
      "text/plain": [
       "LatentDirichletAllocation(n_components=12, random_state=42)"
      ]
     },
     "execution_count": 12,
     "metadata": {},
     "output_type": "execute_result"
    }
   ],
   "source": [
    "t_model.fit(dtm)"
   ]
  },
  {
   "cell_type": "markdown",
   "metadata": {},
   "source": [
    "#### Checking top words for just a single topic"
   ]
  },
  {
   "cell_type": "code",
   "execution_count": 13,
   "metadata": {},
   "outputs": [],
   "source": [
    "#Grabbing all the words that appear in the first topic\n",
    "single_topic = t_model.components_[0]"
   ]
  },
  {
   "cell_type": "code",
   "execution_count": 14,
   "metadata": {},
   "outputs": [
    {
     "data": {
      "text/plain": [
       "array([0.08333333, 1.82787704, 0.08333333, ..., 0.08333333, 0.08333405,\n",
       "       0.08333639])"
      ]
     },
     "execution_count": 14,
     "metadata": {},
     "output_type": "execute_result"
    }
   ],
   "source": [
    "single_topic"
   ]
  },
  {
   "cell_type": "code",
   "execution_count": 15,
   "metadata": {},
   "outputs": [
    {
     "data": {
      "text/plain": [
       "array([4589, 2117, 2862, ..., 4772,  801, 3238], dtype=int64)"
      ]
     },
     "execution_count": 15,
     "metadata": {},
     "output_type": "execute_result"
    }
   ],
   "source": [
    "single_topic.argsort()"
   ]
  },
  {
   "cell_type": "code",
   "execution_count": 16,
   "metadata": {},
   "outputs": [
    {
     "data": {
      "text/plain": [
       "array([1597,  529, 4685, 2848, 3429, 2870, 1428, 4772,  801, 3238],\n",
       "      dtype=int64)"
      ]
     },
     "execution_count": 16,
     "metadata": {},
     "output_type": "execute_result"
    }
   ],
   "source": [
    "#By using Numpy's argsort we can find out all the top words in a topic and grabbing the top 10 of them\n",
    "single_topic.argsort()[-10:]"
   ]
  },
  {
   "cell_type": "markdown",
   "metadata": {},
   "source": [
    "### Checking the top words in all the topics"
   ]
  },
  {
   "cell_type": "code",
   "execution_count": 17,
   "metadata": {},
   "outputs": [
    {
     "name": "stdout",
     "output_type": "stream",
     "text": [
      "THE TOP 15 WORDS IN TOPIC #0:\n",
      "['quality', 'glass', 'camera', 'super', 'worth', 'excellent', 'awesome', 'waste', 'mobile', 'product', 'money', 'don', 'worst', 'buy', 'phone']\n",
      "\n",
      "\n",
      "THE TOP 15 WORDS IN TOPIC #1:\n",
      "['life', 'bad', 'charging', 'performance', 'ok', 'camera', 'issue', 'poor', 'fast', 'phone', 'backup', 'problem', 'good', 'heating', 'battery']\n",
      "\n",
      "\n",
      "THE TOP 15 WORDS IN TOPIC #2:\n",
      "['working', 'hours', 'time', 'fast', 'great', 'takes', 'slow', 'charge', 'product', 'mobile', 'turbo', 'charger', 'charging', 'phone', 'nice']\n",
      "\n",
      "\n",
      "THE TOP 15 WORDS IN TOPIC #3:\n",
      "['core', 'processor', 'ram', 'dolby', '10', 'like', 'use', 'sim', 'card', 'battery', 'music', 'app', 'dual', 'phone', 'camera']\n",
      "\n",
      "\n",
      "THE TOP 15 WORDS IN TOPIC #4:\n",
      "['amazing', 'battery', 'bad', 'features', 'range', 'awesome', 'performance', 'quality', 'product', 'price', 'mobile', 'best', 'camera', 'phone', 'good']\n",
      "\n",
      "\n",
      "THE TOP 15 WORDS IN TOPIC #5:\n",
      "['center', 'worst', 'issue', 'customer', 'days', 'don', 'lenovo', 'want', 'problem', 'buy', 'return', 'product', 'amazon', 'service', 'phone']\n",
      "\n",
      "\n",
      "THE TOP 15 WORDS IN TOPIC #6:\n",
      "['product', 'features', 'option', 'bad', 'k5', 'redmi', 'problem', 'like', 'k4', 'phone', 'better', 'mobile', 'k8', 'note', 'lenovo']\n",
      "\n",
      "\n",
      "THE TOP 15 WORDS IN TOPIC #7:\n",
      "['missing', 'headphone', 'earphone', 'volte', 'box', 'mobile', 'work', 'jio', '4g', 'phone', 'speaker', 'network', 'sim', 'properly', 'working']\n",
      "\n",
      "\n",
      "THE TOP 15 WORDS IN TOPIC #8:\n",
      "['use', 'days', 'don', 'time', 'amazon', 'getting', 'heated', 'hot', 'charging', 'using', 'like', 'gets', 'battery', 'mobile', 'phone']\n",
      "\n",
      "\n",
      "THE TOP 15 WORDS IN TOPIC #9:\n",
      "['lenovo', 'bad', 'received', 'satisfied', 'cast', 'good', 'hai', 'mobile', 'value', 'money', 'delivery', 'screen', 'phone', 'amazon', 'product']\n",
      "\n",
      "\n",
      "THE TOP 15 WORDS IN TOPIC #10:\n",
      "['using', 'depth', 'screen', 'sound', 'mode', 'like', 'dual', 'great', 'price', 'better', 'battery', 'quality', 'phone', 'good', 'camera']\n",
      "\n",
      "\n",
      "THE TOP 15 WORDS IN TOPIC #11:\n",
      "['android', 'buy', 'don', 'got', 'problems', 'oreo', 'heating', 'issues', 'bluetooth', 'issue', 'lenovo', 'software', 'problem', 'update', 'phone']\n",
      "\n",
      "\n"
     ]
    }
   ],
   "source": [
    "#Creating a loop to give the top 15 words from each topic\n",
    "for index, topic in enumerate(t_model.components_):\n",
    "    print(f\"THE TOP 15 WORDS IN TOPIC #{index}:\")\n",
    "    print([cv.get_feature_names()[index] for index in topic.argsort()[-15:]])\n",
    "    print('\\n')"
   ]
  },
  {
   "cell_type": "markdown",
   "metadata": {},
   "source": [
    "# Adding the topics to the dataframe"
   ]
  },
  {
   "cell_type": "code",
   "execution_count": 18,
   "metadata": {},
   "outputs": [],
   "source": [
    "topic_results = t_model.transform(dtm)"
   ]
  },
  {
   "cell_type": "code",
   "execution_count": 19,
   "metadata": {},
   "outputs": [
    {
     "data": {
      "text/plain": [
       "10"
      ]
     },
     "execution_count": 19,
     "metadata": {},
     "output_type": "execute_result"
    }
   ],
   "source": [
    "topic_results[0].round(2).argmax()"
   ]
  },
  {
   "cell_type": "code",
   "execution_count": 20,
   "metadata": {},
   "outputs": [
    {
     "data": {
      "text/html": [
       "<div>\n",
       "<style scoped>\n",
       "    .dataframe tbody tr th:only-of-type {\n",
       "        vertical-align: middle;\n",
       "    }\n",
       "\n",
       "    .dataframe tbody tr th {\n",
       "        vertical-align: top;\n",
       "    }\n",
       "\n",
       "    .dataframe thead th {\n",
       "        text-align: right;\n",
       "    }\n",
       "</style>\n",
       "<table border=\"1\" class=\"dataframe\">\n",
       "  <thead>\n",
       "    <tr style=\"text-align: right;\">\n",
       "      <th></th>\n",
       "      <th>review</th>\n",
       "      <th>Topic</th>\n",
       "    </tr>\n",
       "  </thead>\n",
       "  <tbody>\n",
       "    <tr>\n",
       "      <th>0</th>\n",
       "      <td>Good but need updates and improvements</td>\n",
       "      <td>10</td>\n",
       "    </tr>\n",
       "    <tr>\n",
       "      <th>1</th>\n",
       "      <td>Worst mobile i have bought ever, Battery is dr...</td>\n",
       "      <td>8</td>\n",
       "    </tr>\n",
       "    <tr>\n",
       "      <th>2</th>\n",
       "      <td>when I will get my 10% cash back.... its alrea...</td>\n",
       "      <td>3</td>\n",
       "    </tr>\n",
       "    <tr>\n",
       "      <th>3</th>\n",
       "      <td>Good</td>\n",
       "      <td>4</td>\n",
       "    </tr>\n",
       "    <tr>\n",
       "      <th>4</th>\n",
       "      <td>The worst phone everThey have changed the last...</td>\n",
       "      <td>5</td>\n",
       "    </tr>\n",
       "  </tbody>\n",
       "</table>\n",
       "</div>"
      ],
      "text/plain": [
       "                                              review  Topic\n",
       "0             Good but need updates and improvements     10\n",
       "1  Worst mobile i have bought ever, Battery is dr...      8\n",
       "2  when I will get my 10% cash back.... its alrea...      3\n",
       "3                                               Good      4\n",
       "4  The worst phone everThey have changed the last...      5"
      ]
     },
     "execution_count": 20,
     "metadata": {},
     "output_type": "execute_result"
    }
   ],
   "source": [
    "review['Topic'] = topic_results.argmax(axis=1)\n",
    "review.head()"
   ]
  },
  {
   "cell_type": "markdown",
   "metadata": {},
   "source": [
    "Like I mentioned earlier, we cannot exactly say which topic a certain sentence belongs to unless we have the required domain experience and what we are looking for. I have just given a random guess as to what these 12 topics might based on the type of words that appear in each topic."
   ]
  },
  {
   "cell_type": "code",
   "execution_count": 21,
   "metadata": {},
   "outputs": [],
   "source": [
    "my_topic = {0:'General', 1:'Negative Review', 2:'Battery', 3:'Hardware', 4:'Price', 5:'Customer Service', 6:'Redmi', 7:'Network',\n",
    "           8:'Usage', 9:'Positive Review', 10:'Other', 11:'Software'}"
   ]
  },
  {
   "cell_type": "code",
   "execution_count": 22,
   "metadata": {},
   "outputs": [],
   "source": [
    "review['Topic'] = review['Topic'].map(my_topic)"
   ]
  },
  {
   "cell_type": "code",
   "execution_count": 23,
   "metadata": {},
   "outputs": [
    {
     "data": {
      "text/html": [
       "<div>\n",
       "<style scoped>\n",
       "    .dataframe tbody tr th:only-of-type {\n",
       "        vertical-align: middle;\n",
       "    }\n",
       "\n",
       "    .dataframe tbody tr th {\n",
       "        vertical-align: top;\n",
       "    }\n",
       "\n",
       "    .dataframe thead th {\n",
       "        text-align: right;\n",
       "    }\n",
       "</style>\n",
       "<table border=\"1\" class=\"dataframe\">\n",
       "  <thead>\n",
       "    <tr style=\"text-align: right;\">\n",
       "      <th></th>\n",
       "      <th>review</th>\n",
       "      <th>Topic</th>\n",
       "    </tr>\n",
       "  </thead>\n",
       "  <tbody>\n",
       "    <tr>\n",
       "      <th>0</th>\n",
       "      <td>Good but need updates and improvements</td>\n",
       "      <td>Other</td>\n",
       "    </tr>\n",
       "    <tr>\n",
       "      <th>1</th>\n",
       "      <td>Worst mobile i have bought ever, Battery is dr...</td>\n",
       "      <td>Usage</td>\n",
       "    </tr>\n",
       "    <tr>\n",
       "      <th>2</th>\n",
       "      <td>when I will get my 10% cash back.... its alrea...</td>\n",
       "      <td>Hardware</td>\n",
       "    </tr>\n",
       "    <tr>\n",
       "      <th>3</th>\n",
       "      <td>Good</td>\n",
       "      <td>Price</td>\n",
       "    </tr>\n",
       "    <tr>\n",
       "      <th>4</th>\n",
       "      <td>The worst phone everThey have changed the last...</td>\n",
       "      <td>Customer Service</td>\n",
       "    </tr>\n",
       "  </tbody>\n",
       "</table>\n",
       "</div>"
      ],
      "text/plain": [
       "                                              review             Topic\n",
       "0             Good but need updates and improvements             Other\n",
       "1  Worst mobile i have bought ever, Battery is dr...             Usage\n",
       "2  when I will get my 10% cash back.... its alrea...          Hardware\n",
       "3                                               Good             Price\n",
       "4  The worst phone everThey have changed the last...  Customer Service"
      ]
     },
     "execution_count": 23,
     "metadata": {},
     "output_type": "execute_result"
    }
   ],
   "source": [
    "review.head()"
   ]
  },
  {
   "cell_type": "code",
   "execution_count": 24,
   "metadata": {},
   "outputs": [
    {
     "data": {
      "image/png": "[encoded data removed]",
      "text/plain": [
       "<Figure size 900x600 with 1 Axes>"
      ]
     },
     "metadata": {
      "needs_background": "light"
     },
     "output_type": "display_data"
    }
   ],
   "source": [
    "#A plot to check which topic appears most in the reviews\n",
    "plt.figure(figsize=(12,8), dpi=75)\n",
    "sns.countplot(review['Topic'], data=review)\n",
    "plt.xticks(rotation=85);"
   ]
  },
  {
   "cell_type": "markdown",
   "metadata": {},
   "source": [
    "**From the plot, we can see most reviews are based on Price followed by Negative reviews and General reviews. By looking at this, one thing the phone manufacturer and the seller can do is that they can look into what the reason is for the negative reviews and address those issues by making necessary improvements as there are negative reviews for both the product and the customer service of the seller.**"
   ]
  }
 ],
 "metadata": {
  "kernelspec": {
   "display_name": "Python 3",
   "language": "python",
   "name": "python3"
  },
  "language_info": {
   "codemirror_mode": {
    "name": "ipython",
    "version": 3
   },
   "file_extension": ".py",
   "mimetype": "text/x-python",
   "name": "python",
   "nbconvert_exporter": "python",
   "pygments_lexer": "ipython3",
   "version": "3.8.3"
  }
 },
 "nbformat": 4,
 "nbformat_minor": 4
}
